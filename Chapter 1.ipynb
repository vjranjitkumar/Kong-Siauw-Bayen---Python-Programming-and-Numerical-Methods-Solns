{
 "cells": [
  {
   "cell_type": "code",
   "execution_count": 1,
   "id": "336f7e23-6b9a-497e-a21d-d5dbc1ff4e84",
   "metadata": {},
   "outputs": [
    {
     "name": "stdout",
     "output_type": "stream",
     "text": [
      "I love Python\n"
     ]
    }
   ],
   "source": [
    "#instructor:- jgbiswas@gmail.com\n",
    "# 1\n",
    "print('I love Python')\n"
   ]
  },
  {
   "cell_type": "code",
   "execution_count": 51,
   "id": "b19eab52-3aeb-4b3b-8190-82bb60a7eb47",
   "metadata": {},
   "outputs": [
    {
     "name": "stdin",
     "output_type": "stream",
     "text": [
      "enter base length of the triangle 10\n",
      "enter height of the triangle 12\n"
     ]
    },
    {
     "name": "stdout",
     "output_type": "stream",
     "text": [
      "The area of the triangle is 60.0.\n"
     ]
    }
   ],
   "source": [
    "# 2,3,4 aren't coding questions. So, 5:-\n",
    "a=float(input(\"enter base length of the triangle\"))\n",
    "b=float(input(\"enter height of the triangle\"))\n",
    "print(f\"The area of the triangle is {0.5*a*b}.\")\n",
    "#This code gives the output for any base and any height. Just try entering base 10 and height 12."
   ]
  },
  {
   "cell_type": "code",
   "execution_count": 50,
   "id": "25c399a3-010d-4d6e-8f20-ce6809d5db75",
   "metadata": {},
   "outputs": [
    {
     "name": "stdin",
     "output_type": "stream",
     "text": [
      "enter radius of the cylinder:  3.3\n",
      "enter height of the cylinder:  4.1\n"
     ]
    },
    {
     "name": "stdout",
     "output_type": "stream",
     "text": [
      "The surface area of the cylinder is 153.4353852013255.\n",
      "The volume of the cylinder is 140.26897039013065.\n"
     ]
    }
   ],
   "source": [
    "# 6\n",
    "import math\n",
    "\n",
    "r = float(input(\"enter radius of the cylinder: \"))\n",
    "h = float(input(\"enter height of the cylinder: \"))\n",
    "\n",
    "area = 2 * math.pi * r * (h + r)\n",
    "volume = math.pi * r * r * h\n",
    "\n",
    "print(f\"The surface area of the cylinder is {area}.\") \n",
    "print(f\"The volume of the cylinder is {volume}.\")\n",
    "# just try any radius and height, you'll get the area and volume, both!\n",
    "# inport math here is just for using math.pi."
   ]
  },
  {
   "cell_type": "code",
   "execution_count": 15,
   "id": "e3ad27d6-f3a4-44c8-883c-83c5a3de2f1d",
   "metadata": {},
   "outputs": [
    {
     "name": "stdout",
     "output_type": "stream",
     "text": [
      "enter point (x1, y1)\n"
     ]
    },
    {
     "name": "stdin",
     "output_type": "stream",
     "text": [
      "enter x1 3\n",
      "enter y1 4\n"
     ]
    },
    {
     "name": "stdout",
     "output_type": "stream",
     "text": [
      "enter point (x2, y2)\n"
     ]
    },
    {
     "name": "stdin",
     "output_type": "stream",
     "text": [
      "enter x2 3\n",
      "enter y2 9\n"
     ]
    },
    {
     "name": "stdout",
     "output_type": "stream",
     "text": [
      "The slope is infinite as the line joining those two points are perpendicular to x-axis and the distance between the points is 5\n"
     ]
    }
   ],
   "source": [
    "# 7,8\n",
    "import math\n",
    "print(\"enter point (x1, y1)\")\n",
    "x1,y1=int(input(\"enter x1\")),int(input(\"enter y1\"))\n",
    "print(\"enter point (x2, y2)\")\n",
    "x2,y2=int(input(\"enter x2\")),int(input(\"enter y2\"))\n",
    "if (x2-x1)==0:\n",
    "    print(f\"The slope is infinite as the line joining those two points are perpendicular to x-axis and the distance between the points is {abs(y2-y1)}\")\n",
    "else:\n",
    "    print(f\"The slope between the points (x1,y1) & (x2,y2) is {(y2-y1)/(x2-x1)} and the distance between the points is {math.sqrt(((x2-x1)**2)+((y2-y1)**2))}.\")\n",
    "# now try entering any two points and get it's slope and distance between them!\n",
    "# by adding \":.2f\" at the result, you can approximate results to two decimals."
   ]
  },
  {
   "cell_type": "code",
   "execution_count": 17,
   "id": "b2537c1b-a102-4e05-9ee3-3b9a161aa23f",
   "metadata": {},
   "outputs": [
    {
     "name": "stdin",
     "output_type": "stream",
     "text": [
      "enter number to know it's factorial 6\n"
     ]
    },
    {
     "name": "stdout",
     "output_type": "stream",
     "text": [
      "The factorial of 6 is 720.\n"
     ]
    }
   ],
   "source": [
    "# 9\n",
    "#this can be done in two ways. one is, by using for/while loop. the other is using the math.factorial function.\n",
    "#but, now we will just use math.factorial function for it as specified in the question.\n",
    "import math\n",
    "a=int(input(\"enter number to know it's factorial\"))\n",
    "print(f\"The factorial of {a} is {math.factorial(a)}.\")\n"
   ]
  },
  {
   "cell_type": "code",
   "execution_count": 21,
   "id": "55094efa-6a4e-47bd-88d1-0870408b458f",
   "metadata": {},
   "outputs": [
    {
     "name": "stdin",
     "output_type": "stream",
     "text": [
      "enter year 1 8389\n",
      "enter year 2 2003\n"
     ]
    },
    {
     "name": "stdout",
     "output_type": "stream",
     "text": [
      "There are 1549 leap years between the years 2003 and 8389\n"
     ]
    }
   ],
   "source": [
    "# 10\n",
    "# the code finds the number of leap years inbetween year_1 and year_2.\n",
    "d=0\n",
    "year_1=int(input(\"enter year 1\"))\n",
    "year_2=int(input(\"enter year 2\"))\n",
    "a=max(year_1,year_2)\n",
    "b=min(year_1,year_2)\n",
    "while b<=a:\n",
    "    if (b%4==0 and b%100!=0) or (b%400==0):\n",
    "        d+=1\n",
    "    b+=1\n",
    "print(f\"There are {d} leap years between the years {min(year_1,year_2)} and {max(year_1,year_2)}\")\n",
    "#now you can try any two years randomly :)."
   ]
  },
  {
   "cell_type": "code",
   "execution_count": 34,
   "id": "985fcacd-6662-42e0-98f1-e04a66fa726c",
   "metadata": {},
   "outputs": [
    {
     "name": "stdin",
     "output_type": "stream",
     "text": [
      "enter the number of terms of the summation you want to add. 2\n"
     ]
    },
    {
     "name": "stdout",
     "output_type": "stream",
     "text": [
      "Hence, the computed value of pi using 2 term(s) of Srinivasa Ramanujan's summation series is 3.1415926535897936. The error between value of pi stored in python and the computed value is -4.440892098500626e-16.\n"
     ]
    }
   ],
   "source": [
    "# 11\n",
    "import math\n",
    "K=int(input(\"enter the number of terms of the summation you want to add.\"))\n",
    "N=K-1\n",
    "i=0\n",
    "s=0\n",
    "while i<=N:\n",
    "    s+=(2*(math.sqrt(2))*(math.factorial(4*i))*(1103+26390*i))/(9801*((math.factorial(i))**4)*(396**(4*i)))\n",
    "    i+=1\n",
    "pi_python=math.pi\n",
    "pi_computed=1/s\n",
    "print(f\"Hence, the computed value of pi using {K} term(s) of Srinivasa Ramanujan's summation series is {pi_computed}. The error between value of pi stored in python and the computed value is {pi_python-pi_computed}.\")\n",
    "#Now, you can look at the error deviation by computing the series for any number of terms you want!\n",
    "#It's interesting to note that, when you enter any input value above 2 in this code, the error is 0:"
   ]
  },
  {
   "cell_type": "code",
   "execution_count": 49,
   "id": "1c9aa878-0a96-4c4c-88fe-c0d511f52af9",
   "metadata": {},
   "outputs": [
    {
     "name": "stdin",
     "output_type": "stream",
     "text": [
      "enter value of x to compute sinh. 3\n"
     ]
    },
    {
     "name": "stdout",
     "output_type": "stream",
     "text": [
      "The computed value of sinh for x=3.0 is 10.017874927409903. This value is 0.0 away from the python stored value of sinh.\n"
     ]
    }
   ],
   "source": [
    "# 12\n",
    "import math\n",
    "x=float(input(\"enter value of x to compute sinh.\"))\n",
    "sinh=(math.exp(x)-math.exp(-x))/2\n",
    "print(f\"The computed value of sinh for x={x} is {sinh}. This value is {math.sinh(x)-sinh} away from the python stored value of sinh.\")\n",
    "#Now try any value of x and compare it!"
   ]
  },
  {
   "cell_type": "code",
   "execution_count": 46,
   "id": "e84b67c5-6af8-4edb-8952-bc4cb5a6e403",
   "metadata": {},
   "outputs": [
    {
     "name": "stdin",
     "output_type": "stream",
     "text": [
      "Enter value of x to verify identity. 0.1888888888888\n"
     ]
    },
    {
     "name": "stdout",
     "output_type": "stream",
     "text": [
      "The identity works for x=0.1888888888888.\n"
     ]
    }
   ],
   "source": [
    "# 13\n",
    "import math\n",
    "x=float(input(\"Enter value of x to verify identity.\"))\n",
    "y=x*(math.pi)\n",
    "if (math.sin(y))**2 + (math.cos(y))**2 ==1:\n",
    "    print(f\"The identity works for x={x}.\")\n",
    "else:\n",
    "    print(\"It's not an identity.\")\n",
    "#Now, use any value of x to verify the identity. I've verified it for all given values and it works."
   ]
  },
  {
   "cell_type": "code",
   "execution_count": 48,
   "id": "fe42d023-725d-456c-8e7c-9a8de25e77fc",
   "metadata": {},
   "outputs": [
    {
     "name": "stdin",
     "output_type": "stream",
     "text": [
      "enter value of x in degrees to know sin(x). 90\n"
     ]
    },
    {
     "data": {
      "text/plain": [
       "1.0"
      ]
     },
     "execution_count": 48,
     "metadata": {},
     "output_type": "execute_result"
    }
   ],
   "source": [
    "# 14\n",
    "import math\n",
    "x=float(input(\"enter value of x in degrees to know sin(x).\"))\n",
    "math.sin((x*math.pi)/180)\n",
    "#Now, use any angle in degrees to find it's sin value!"
   ]
  },
  {
   "cell_type": "code",
   "execution_count": 52,
   "id": "a6b70e0c-d891-4aa7-b6ae-1bb4fca641a9",
   "metadata": {},
   "outputs": [
    {
     "ename": "AttributeError",
     "evalue": "module 'math' has no attribute 'sni'",
     "output_type": "error",
     "traceback": [
      "\u001b[0;31m---------------------------------------------------------------------------\u001b[0m",
      "\u001b[0;31mAttributeError\u001b[0m                            Traceback (most recent call last)",
      "Cell \u001b[0;32mIn[52], line 2\u001b[0m\n\u001b[1;32m      1\u001b[0m \u001b[38;5;28;01mimport\u001b[39;00m \u001b[38;5;21;01mmath\u001b[39;00m\n\u001b[0;32m----> 2\u001b[0m \u001b[43mmath\u001b[49m\u001b[38;5;241;43m.\u001b[39;49m\u001b[43msni\u001b[49m\n",
      "\u001b[0;31mAttributeError\u001b[0m: module 'math' has no attribute 'sni'"
     ]
    }
   ],
   "source": [
    "# 15\n",
    "import math\n",
    "math.sni\n",
    "#this generates that attribute error"
   ]
  },
  {
   "cell_type": "code",
   "execution_count": 53,
   "id": "5a672734-d82f-4d92-a358-0cf8b423d515",
   "metadata": {},
   "outputs": [
    {
     "ename": "TypeError",
     "evalue": "math.sin() takes exactly one argument (0 given)",
     "output_type": "error",
     "traceback": [
      "\u001b[0;31m---------------------------------------------------------------------------\u001b[0m",
      "\u001b[0;31mTypeError\u001b[0m                                 Traceback (most recent call last)",
      "Cell \u001b[0;32mIn[53], line 3\u001b[0m\n\u001b[1;32m      1\u001b[0m \u001b[38;5;66;03m# 16\u001b[39;00m\n\u001b[1;32m      2\u001b[0m \u001b[38;5;28;01mimport\u001b[39;00m \u001b[38;5;21;01mmath\u001b[39;00m\n\u001b[0;32m----> 3\u001b[0m \u001b[43mmath\u001b[49m\u001b[38;5;241;43m.\u001b[39;49m\u001b[43msin\u001b[49m\u001b[43m(\u001b[49m\u001b[43m)\u001b[49m\n",
      "\u001b[0;31mTypeError\u001b[0m: math.sin() takes exactly one argument (0 given)"
     ]
    }
   ],
   "source": [
    "# 16\n",
    "import math\n",
    "math.sin()\n",
    "#this code generates that error"
   ]
  },
  {
   "cell_type": "code",
   "execution_count": 60,
   "id": "58925b2e-d85e-4707-a590-bbb943016838",
   "metadata": {},
   "outputs": [
    {
     "name": "stdout",
     "output_type": "stream",
     "text": [
      "P and (not P) is false for all cases.\n"
     ]
    }
   ],
   "source": [
    "# 17\n",
    "P=bool(0)\n",
    "if ((P and (not P)) == 0) == ((((not P) and P))==0):\n",
    "    print(\"P and (not P) is false for all cases.\")\n",
    "else:\n",
    "    print(\"Not true in all cases\")\n",
    "#Turns out it's false for all cases."
   ]
  },
  {
   "cell_type": "code",
   "execution_count": 76,
   "id": "c1be5c9d-04ad-4c3a-b58c-4035fffb8d40",
   "metadata": {},
   "outputs": [
    {
     "name": "stdin",
     "output_type": "stream",
     "text": [
      "Enter P 1\n",
      "Enter Q 1\n"
     ]
    },
    {
     "name": "stdout",
     "output_type": "stream",
     "text": [
      "The theorem is valid\n"
     ]
    }
   ],
   "source": [
    "# 18\n",
    "P=bool(input(\"Enter P\"))\n",
    "Q=bool(input(\"Enter Q\"))\n",
    "if (not (P or Q) == (((not P ) and (not Q))) and (not (P and Q) == ((not P) or (not Q)))):\n",
    "    print(\"The theorem is valid\")\n",
    "#The following were the results for all possible entries, which is a proof that the the theorem holds in every case.\n",
    "#Enter P 0\n",
    "#Enter Q 0\n",
    "#The theorem is valid\n",
    "#Enter P 0\n",
    "#Enter Q 1\n",
    "#The theorem is valid\n",
    "#Enter P 1\n",
    "#Enter Q 0\n",
    "#The theorem is valid\n",
    "#Enter P 1\n",
    "#Enter Q 1\n",
    "#The theorem is valid"
   ]
  },
  {
   "cell_type": "code",
   "execution_count": null,
   "id": "1977a25d-c7db-4669-93ad-5070486a837b",
   "metadata": {},
   "outputs": [],
   "source": [
    "# 19:- When P is false, the whole logical expression becomes false.\n",
    "# 20:- not((not P) and (not Q)) is an equivalent expression to P or Q.\n",
    "# 21:- not((not P) or (not Q)) is an equivalent expression to P and Q.\n",
    "# 22:- (P and (not Q)) or (Q and (not P)) is an equivalent expression to XOR."
   ]
  },
  {
   "cell_type": "code",
   "execution_count": 64,
   "id": "1bd394ba-35e8-4ef7-9e4f-5d4f15cbab34",
   "metadata": {},
   "outputs": [
    {
     "data": {
      "text/plain": [
       "-120.27311408976854"
      ]
     },
     "execution_count": 64,
     "metadata": {},
     "output_type": "execute_result"
    }
   ],
   "source": [
    "# 23\n",
    "import math\n",
    "(math.exp(2))*math.sin(math.pi/6)+math.log(3)*math.cos(math.pi/9)-5**3\n",
    "# We have computed the calue of that expression."
   ]
  },
  {
   "cell_type": "code",
   "execution_count": 68,
   "id": "4aa99989-6cfa-42b7-bdfc-2fd9458f9931",
   "metadata": {},
   "outputs": [
    {
     "name": "stdin",
     "output_type": "stream",
     "text": [
      "Enter P 1\n",
      "Enter Q 1\n"
     ]
    },
    {
     "name": "stdout",
     "output_type": "stream",
     "text": [
      "The value of not(P) and not(Q) is False\n"
     ]
    },
    {
     "name": "stdin",
     "output_type": "stream",
     "text": [
      "Integer 1 10\n",
      "Integer that's compared with integer 1 25\n"
     ]
    },
    {
     "data": {
      "text/plain": [
       "False"
      ]
     },
     "execution_count": 68,
     "metadata": {},
     "output_type": "execute_result"
    }
   ],
   "source": [
    "# 24\n",
    "P=bool(input(\"Enter P\"))\n",
    "Q=bool(input(\"Enter Q\"))\n",
    "print(f\"The value of not(P) and not(Q) is {not(P) and not(Q)}\")\n",
    "a=int(input(\"Integer 1\"))\n",
    "b=int(input(\"Integer that's compared with integer 1\"))\n",
    "(a<b) and (a==b)\n",
    "#Enter any value and test. For the question, both the results that i got was false."
   ]
  },
  {
   "cell_type": "code",
   "execution_count": null,
   "id": "f620c150-bbf6-4429-9bd9-7390f46f1e50",
   "metadata": {},
   "outputs": [],
   "source": []
  }
 ],
 "metadata": {
  "kernelspec": {
   "display_name": "Python 3 (ipykernel)",
   "language": "python",
   "name": "python3"
  },
  "language_info": {
   "codemirror_mode": {
    "name": "ipython",
    "version": 3
   },
   "file_extension": ".py",
   "mimetype": "text/x-python",
   "name": "python",
   "nbconvert_exporter": "python",
   "pygments_lexer": "ipython3",
   "version": "3.10.4"
  }
 },
 "nbformat": 4,
 "nbformat_minor": 5
}
