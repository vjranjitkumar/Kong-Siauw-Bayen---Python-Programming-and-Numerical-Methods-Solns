{
 "cells": [
  {
   "cell_type": "code",
   "execution_count": 15,
   "id": "6dd6df06-279f-41e6-aea8-f7537fa5ee07",
   "metadata": {},
   "outputs": [
    {
     "name": "stdout",
     "output_type": "stream",
     "text": [
      "0.0\n",
      "1.1752011936438014\n",
      "3.626860407847019\n"
     ]
    }
   ],
   "source": [
    "#1\n",
    "import math\n",
    "def my_sinh(x):\n",
    "    return (math.exp(x) - math.exp(-x)) / 2\n",
    "print(my_sinh(0))\n",
    "print(my_sinh(1))\n",
    "print(my_sinh(2))\n"
   ]
  },
  {
   "cell_type": "code",
   "execution_count": 16,
   "id": "1539af95-aeee-4149-874c-52b3e137e709",
   "metadata": {},
   "outputs": [
    {
     "name": "stdout",
     "output_type": "stream",
     "text": [
      "[[1.]] [[1. 0.]\n",
      " [0. 1.]]\n"
     ]
    }
   ],
   "source": [
    "#2\n",
    "import numpy as np\n",
    "def my_checker_board(n: int):\n",
    "    a = np.zeros((n,n))\n",
    "    a[::2,::2] = 1\n",
    "    a[1::2,1::2] = 1\n",
    "    return a\n",
    "print(my_checker_board(1),my_checker_board(2))"
   ]
  },
  {
   "cell_type": "code",
   "execution_count": 17,
   "id": "802a25ec-d592-424e-bcfe-7a9e077ad3f6",
   "metadata": {},
   "outputs": [
    {
     "name": "stdout",
     "output_type": "stream",
     "text": [
      "0.5 1.0 30.0\n"
     ]
    }
   ],
   "source": [
    "#3\n",
    "def my_triangle(b: float, h: float):\n",
    "    return 0.5*b*h\n",
    "print(my_triangle(1, 1),my_triangle(2, 1),my_triangle(12, 5))\n",
    "#I have done the triangle area this way in the first chapter's assignment itself."
   ]
  },
  {
   "cell_type": "code",
   "execution_count": 21,
   "id": "0dd9bc5c-f3d5-4cc5-8f6a-6df97f625349",
   "metadata": {},
   "outputs": [
    {
     "name": "stdout",
     "output_type": "stream",
     "text": [
      "[[1 2]\n",
      " [4 5]\n",
      " [7 8]] [[3]\n",
      " [6]\n",
      " [9]]\n"
     ]
    }
   ],
   "source": [
    "#4\n",
    "def my_split_matrix(a):\n",
    "    middle = (a.shape[1]//2) + (a.shape[1]%2)\n",
    "    a1 = a[:,:middle]\n",
    "    a2 = a[:,middle:]\n",
    "    return [a1,a2]\n",
    "a = np.array([[1, 2, 3], [4, 5, 6], [7, 8, 9]])\n",
    "a1, a2 = my_split_matrix(a)\n",
    "print(a1,a2)"
   ]
  },
  {
   "cell_type": "code",
   "execution_count": 35,
   "id": "9a5ae80d-3740-48fe-8bb2-493d7af79e81",
   "metadata": {},
   "outputs": [
    {
     "name": "stdout",
     "output_type": "stream",
     "text": [
      "3.141592653589793\n",
      "[37.69911184307752, 15.707963267948966] [75.39822368615503, 50.26548245743669]\n"
     ]
    }
   ],
   "source": [
    "#5\n",
    "from math import pi\n",
    "print(pi)\n",
    "def my_cylinder(r, h):\n",
    "    v = pi*r*r*h\n",
    "    s = 2*pi*r*r + 2*pi*r*h\n",
    "    return [s,v]\n",
    "\n",
    "print(my_cylinder(1,5),my_cylinder(2,4))"
   ]
  },
  {
   "cell_type": "code",
   "execution_count": 23,
   "id": "797ee0ef-47c5-46a9-9fa4-ffe806e3dfc8",
   "metadata": {},
   "outputs": [
    {
     "data": {
      "text/plain": [
       "np.int64(0)"
      ]
     },
     "execution_count": 23,
     "metadata": {},
     "output_type": "execute_result"
    }
   ],
   "source": [
    "#6\n",
    "def my_n_odds(a):\n",
    "    return np.sum(np.floor(a) % 2 != 0)\n",
    "\n",
    "my_n_odds(np.arange(2,100,2))"
   ]
  },
  {
   "cell_type": "code",
   "execution_count": 24,
   "id": "cc76a186-91e2-4b77-a832-cbf446bcaceb",
   "metadata": {},
   "outputs": [
    {
     "data": {
      "text/plain": [
       "array([[2, 2],\n",
       "       [2, 2],\n",
       "       [2, 2]])"
      ]
     },
     "execution_count": 24,
     "metadata": {},
     "output_type": "execute_result"
    }
   ],
   "source": [
    "#7\n",
    "def my_twos(m,n):\n",
    "    return np.full((m,n),2)\n",
    "my_twos(3,2)"
   ]
  },
  {
   "cell_type": "code",
   "execution_count": 28,
   "id": "7870b812-008a-4be8-b0f6-04db9c358760",
   "metadata": {},
   "outputs": [
    {
     "data": {
      "text/plain": [
       "-297"
      ]
     },
     "execution_count": 28,
     "metadata": {},
     "output_type": "execute_result"
    }
   ],
   "source": [
    "#8\n",
    "difference = lambda x, y: x-y\n",
    "difference(400,697)"
   ]
  },
  {
   "cell_type": "code",
   "execution_count": 27,
   "id": "0e1c7547-a043-4557-a5be-4c6e6e3a5ce9",
   "metadata": {},
   "outputs": [
    {
     "data": {
      "text/plain": [
       "'Programming is fun!'"
      ]
     },
     "execution_count": 27,
     "metadata": {},
     "output_type": "execute_result"
    }
   ],
   "source": [
    "#9\n",
    "def add_string(s1: str, s2: str) -> str:\n",
    "    return s1 + s2\n",
    "add_string(\"Programming\",\" is fun!\")"
   ]
  },
  {
   "cell_type": "code",
   "execution_count": 29,
   "id": "ca904f9b-1573-454f-9cd2-e774c98e0f6b",
   "metadata": {},
   "outputs": [
    {
     "ename": "TypeError",
     "evalue": "fun() missing 1 required positional argument: 'a'",
     "output_type": "error",
     "traceback": [
      "\u001b[0;31m---------------------------------------------------------------------------\u001b[0m",
      "\u001b[0;31mTypeError\u001b[0m                                 Traceback (most recent call last)",
      "Cell \u001b[0;32mIn[29], line 5\u001b[0m\n\u001b[1;32m      2\u001b[0m \u001b[38;5;28;01mdef\u001b[39;00m \u001b[38;5;21mfun\u001b[39m(a):\n\u001b[1;32m      3\u001b[0m     \u001b[38;5;28;01mreturn\u001b[39;00m a\n\u001b[0;32m----> 5\u001b[0m \u001b[43mfun\u001b[49m\u001b[43m(\u001b[49m\u001b[43m)\u001b[49m\n",
      "\u001b[0;31mTypeError\u001b[0m: fun() missing 1 required positional argument: 'a'"
     ]
    }
   ],
   "source": [
    "#10\n",
    "def fun(a):\n",
    "    return a\n",
    "\n",
    "fun()"
   ]
  },
  {
   "cell_type": "code",
   "execution_count": 31,
   "id": "617f57d0-182a-4958-b011-ca3d92160fb5",
   "metadata": {},
   "outputs": [
    {
     "name": "stdout",
     "output_type": "stream",
     "text": [
      "Hi, my name is John and I am 26 years old.\n",
      "Hi, my name is Kate and I am 19 years old.\n"
     ]
    }
   ],
   "source": [
    "#11\n",
    "def greeting(name: str, age: float) -> str:\n",
    "    return \"Hi, my name is \" + name + \" and I am \" + str(age) + \" years old.\"\n",
    "\n",
    "print(greeting(\"John\",26))\n",
    "print(greeting(\"Kate\", 19))"
   ]
  },
  {
   "cell_type": "code",
   "execution_count": 32,
   "id": "b68ca752-ac87-4364-94a2-5058a4f19cfe",
   "metadata": {},
   "outputs": [
    {
     "data": {
      "text/plain": [
       "array([ 9.42477796, 37.69911184, 84.82300165])"
      ]
     },
     "execution_count": 32,
     "metadata": {},
     "output_type": "execute_result"
    }
   ],
   "source": [
    "#12\n",
    "def my_donut_area(r1,r2):\n",
    "    return pi*(r2**2 - r1**2)\n",
    "my_donut_area(np.arange(1,4), np.arange(2,7,2))"
   ]
  },
  {
   "cell_type": "code",
   "execution_count": 33,
   "id": "c586c37f-3f8c-4e78-bcf6-1ddf69a0e833",
   "metadata": {},
   "outputs": [
    {
     "data": {
      "text/plain": [
       "array([1, 2])"
      ]
     },
     "execution_count": 33,
     "metadata": {},
     "output_type": "execute_result"
    }
   ],
   "source": [
    "#13\n",
    "def my_within_tolerance(A,a,tol):\n",
    "    A = np.array(A)\n",
    "    return np.where(np.abs(A-a)<tol)[0]\n",
    "my_within_tolerance([0,1,2,3],1.5,0.75)"
   ]
  },
  {
   "cell_type": "code",
   "execution_count": 34,
   "id": "12c21b60-813e-4957-9168-d2fddcccdfb6",
   "metadata": {},
   "outputs": [
    {
     "data": {
      "text/plain": [
       "array([-3, -3, -3, -2, -1,  0,  1,  2,  3,  3,  3])"
      ]
     },
     "execution_count": 34,
     "metadata": {},
     "output_type": "execute_result"
    }
   ],
   "source": [
    "#14\n",
    "def bounding_array(A,top,bottom):\n",
    "    A = np.array(A)\n",
    "    A[A > top] = top\n",
    "    A[A < bottom] = bottom\n",
    "    return A\n",
    "bounding_array(np.arange(-5,6,1),3,-3)"
   ]
  },
  {
   "cell_type": "code",
   "execution_count": null,
   "id": "422c96ec-db98-4748-a32f-4f297a9acbc5",
   "metadata": {},
   "outputs": [],
   "source": []
  }
 ],
 "metadata": {
  "kernelspec": {
   "display_name": "Python 3 (ipykernel)",
   "language": "python",
   "name": "python3"
  },
  "language_info": {
   "codemirror_mode": {
    "name": "ipython",
    "version": 3
   },
   "file_extension": ".py",
   "mimetype": "text/x-python",
   "name": "python",
   "nbconvert_exporter": "python",
   "pygments_lexer": "ipython3",
   "version": "3.10.4"
  }
 },
 "nbformat": 4,
 "nbformat_minor": 5
}
