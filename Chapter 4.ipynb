{
 "cells": [
  {
   "cell_type": "code",
   "execution_count": 4,
   "id": "97529556-979a-4071-99ad-9d4174d2034e",
   "metadata": {},
   "outputs": [
    {
     "name": "stdout",
     "output_type": "stream",
     "text": [
      "16.3935 19.6722 21.858000000000004 27.3225\n"
     ]
    }
   ],
   "source": [
    "#1\n",
    "def my_tip_calc(bill, party):\n",
    "    if party<6:\n",
    "        tip= bill*0.15\n",
    "    elif party<8:\n",
    "        tip= bill*0.18\n",
    "    elif party<11:\n",
    "        tip=bill*0.2\n",
    "    elif party>=11:\n",
    "        tip=0.25*bill\n",
    "    return tip\n",
    "print(my_tip_calc(109.29,3),my_tip_calc(109.29,7),my_tip_calc(109.29,9),my_tip_calc(109.29,12))"
   ]
  },
  {
   "cell_type": "code",
   "execution_count": 8,
   "id": "5ca66188-85a3-48d3-88b2-8d86caca47f8",
   "metadata": {},
   "outputs": [
    {
     "name": "stdout",
     "output_type": "stream",
     "text": [
      "[3 5 7 9] [-1 -1 -1 -1] [ 2  6 12 20] [0.5        0.66666667 0.75       0.8       ] [   1    8   81 1024]\n"
     ]
    }
   ],
   "source": [
    "#2\n",
    "import numpy as np\n",
    "def my_mult_operation(a,b,operation):\n",
    "    if operation==\"plus\":\n",
    "        t=a+b\n",
    "    elif operation==\"minus\":\n",
    "        t=a-b\n",
    "    elif operation==\"mult\":\n",
    "        t=a*b\n",
    "    elif operation==\"div\":\n",
    "        t=a/b\n",
    "    elif operation==\"pow\":\n",
    "        t=a**b\n",
    "    return t\n",
    "x = np.array([1,2,3,4])\n",
    "y = np.array([2,3,4,5])\n",
    "print(my_mult_operation(x,y,\"plus\"),my_mult_operation(x,y,\"minus\"),my_mult_operation(x,y,\"mult\"),my_mult_operation(x,y,\"div\"),my_mult_operation(x,y,\"pow\"))"
   ]
  },
  {
   "cell_type": "code",
   "execution_count": 24,
   "id": "0397609c-d766-41e2-a2d5-e7e9f138fff2",
   "metadata": {},
   "outputs": [
    {
     "name": "stdout",
     "output_type": "stream",
     "text": [
      "border inside outside\n"
     ]
    }
   ],
   "source": [
    "#3\n",
    "def my_inside_triangle(x,y):\n",
    "    if (x>0 and y>0) and x+y-1<0:\n",
    "        position=\"inside\"\n",
    "    elif (x<0 or y<0) or x+y-1>0:\n",
    "        position=\"outside\"\n",
    "    else:\n",
    "        position=\"border\"\n",
    "    return position\n",
    "print(my_inside_triangle(.5,.5),my_inside_triangle(.25,.25),my_inside_triangle(5,5))"
   ]
  },
  {
   "cell_type": "code",
   "execution_count": 28,
   "id": "c3713e45-e532-40a4-823c-208982bd0d90",
   "metadata": {},
   "outputs": [
    {
     "ename": "TypeError",
     "evalue": "my_make_size10() takes 1 positional argument but 2 were given",
     "output_type": "error",
     "traceback": [
      "\u001b[0;31m---------------------------------------------------------------------------\u001b[0m",
      "\u001b[0;31mTypeError\u001b[0m                                 Traceback (most recent call last)",
      "Cell \u001b[0;32mIn[28], line 12\u001b[0m\n\u001b[1;32m      9\u001b[0m         num_zeros \u001b[38;5;241m=\u001b[39m \u001b[38;5;241m10\u001b[39m \u001b[38;5;241m-\u001b[39m \u001b[38;5;28mlen\u001b[39m(x)\n\u001b[1;32m     10\u001b[0m         \u001b[38;5;28;01mreturn\u001b[39;00m np\u001b[38;5;241m.\u001b[39mconcatenate((x, np\u001b[38;5;241m.\u001b[39mzeros(num_zeros)))\n\u001b[0;32m---> 12\u001b[0m \u001b[38;5;28mprint\u001b[39m(my_make_size10(\u001b[38;5;28mrange\u001b[39m(\u001b[38;5;241m1\u001b[39m,\u001b[38;5;241m2\u001b[39m)),my_make_size10(\u001b[38;5;28mrange\u001b[39m(\u001b[38;5;241m1\u001b[39m,\u001b[38;5;241m15\u001b[39m)),\u001b[43mmy_make_size10\u001b[49m\u001b[43m(\u001b[49m\u001b[38;5;241;43m5\u001b[39;49m\u001b[43m,\u001b[49m\u001b[38;5;241;43m5\u001b[39;49m\u001b[43m)\u001b[49m)\n",
      "\u001b[0;31mTypeError\u001b[0m: my_make_size10() takes 1 positional argument but 2 were given"
     ]
    }
   ],
   "source": [
    "#4\n",
    "import numpy as np\n",
    "\n",
    "def my_make_size10(x):\n",
    "    x = np.array(x)\n",
    "    if len(x) >= 10:\n",
    "        return x[:10]\n",
    "    else:\n",
    "        num_zeros = 10 - len(x)\n",
    "        return np.concatenate((x, np.zeros(num_zeros)))\n",
    "\n",
    "print(my_make_size10(range(1,2)),my_make_size10(range(1,15)),my_make_size10(5,5))\n",
    "#what is 5,5 in the question?"
   ]
  },
  {
   "cell_type": "code",
   "execution_count": 29,
   "id": "8cb0f9f5-164c-45a6-8d19-fd81df2b6208",
   "metadata": {},
   "outputs": [
    {
     "name": "stdout",
     "output_type": "stream",
     "text": [
      "[1. 0. 0. 0. 0. 0. 0. 0. 0. 0.] [ 1  2  3  4  5  6  7  8  9 10]\n"
     ]
    }
   ],
   "source": [
    "#5\n",
    "import numpy as np\n",
    "\n",
    "def my_make_size10(x):\n",
    "    x = np.array(x)\n",
    "    if len(x) >= 10:\n",
    "        return x[:10]\n",
    "    else:\n",
    "        padded_array = np.zeros(10)\n",
    "        padded_array[:len(x)] = x\n",
    "        return padded_array\n",
    "print(my_make_size10(range(1,2)),my_make_size10(range(1,15)))"
   ]
  },
  {
   "cell_type": "code",
   "execution_count": 17,
   "id": "0ffddb41-473b-462a-ad4d-84ab020335e5",
   "metadata": {},
   "outputs": [
    {
     "name": "stdout",
     "output_type": "stream",
     "text": [
      "A+ B\n"
     ]
    }
   ],
   "source": [
    "#6\n",
    "def my_letter_grader(percent):\n",
    "    if percent>=97:\n",
    "        grade= \"A+\"\n",
    "    elif percent>=93:\n",
    "        grade=\"A\"\n",
    "    elif percent>=90:\n",
    "        grade=\"A-\"\n",
    "    elif percent>=87:\n",
    "        grade=\"B+\"\n",
    "    elif percent>=83:\n",
    "        grade=\"B\"\n",
    "    elif percent>=80:\n",
    "        grade=\"B-\"\n",
    "    elif percent>=77:\n",
    "        grade=\"C+\"\n",
    "    elif percent>=73:\n",
    "        grade=\"C\"\n",
    "    elif percent>=70:\n",
    "        grade=\"C-\"\n",
    "    elif percent>=67:\n",
    "        grade=\"D+\"\n",
    "    elif percent>=63:\n",
    "        grade=\"D\"\n",
    "    elif percent>=60:\n",
    "        grade=\"D-\"\n",
    "    elif percent<60:\n",
    "        grade=\"F\"\n",
    "    return grade\n",
    "print(my_letter_grader(97),my_letter_grader(84))"
   ]
  },
  {
   "cell_type": "code",
   "execution_count": 20,
   "id": "45794cde-8ec1-407e-b98b-38e011970ae9",
   "metadata": {},
   "outputs": [
    {
     "name": "stdout",
     "output_type": "stream",
     "text": [
      "normal alarm! normal\n"
     ]
    }
   ],
   "source": [
    "#7\n",
    "def my_nuke_alarm(s1, s2, s3):\n",
    "    if abs(s1 - s2) > 10 and abs(s1 - s3) > 10:\n",
    "        return \"alarm!\"\n",
    "    elif abs(s1 - s2) > 10 and abs(s2 - s3) > 10:\n",
    "        return \"alarm!\"\n",
    "    elif abs(s1 - s3) > 10 and abs(s2 - s3) > 10:\n",
    "        return \"alarm!\"\n",
    "    else:\n",
    "        return \"normal\"\n",
    "print(my_nuke_alarm(94,96,90),my_nuke_alarm(94,96,80),my_nuke_alarm(100,96,90))"
   ]
  },
  {
   "cell_type": "code",
   "execution_count": 23,
   "id": "ead13716-240c-4041-9c7d-359c55931b6e",
   "metadata": {},
   "outputs": [
    {
     "data": {
      "text/plain": [
       "(-2,\n",
       " [(-0.6666666666666666+1.1055415967851332j),\n",
       "  (-0.6666666666666666-1.1055415967851332j)])"
      ]
     },
     "execution_count": 23,
     "metadata": {},
     "output_type": "execute_result"
    }
   ],
   "source": [
    "#8\n",
    "import cmath\n",
    "def my_n_roots(a, b, c):\n",
    "    discriminant = b**2 - 4*a*c\n",
    "    if discriminant > 0:\n",
    "        n_roots = 2\n",
    "        r = [(-b + cmath.sqrt(discriminant)) / (2*a), (-b - cmath.sqrt(discriminant)) / (2*a)]\n",
    "    elif discriminant == 0:\n",
    "    # One real root\n",
    "        n_roots = 1\n",
    "        r = [-b / (2*a)]\n",
    "    else:\n",
    "        n_roots = -2\n",
    "        r = [(-b + cmath.sqrt(discriminant)) / (2*a), (-b - cmath.sqrt(discriminant)) / (2*a)]\n",
    "    return n_roots, r\n",
    "my_n_roots(3,4,5)"
   ]
  },
  {
   "cell_type": "code",
   "execution_count": 15,
   "id": "f44ccb24-88e4-4ee7-9b59-51a4ba0cead1",
   "metadata": {},
   "outputs": [
    {
     "name": "stdout",
     "output_type": "stream",
     "text": [
      "2.718281828459045 0 -0.9589242746631385\n"
     ]
    }
   ],
   "source": [
    "#9\n",
    "def my_split_function(f,g,a,b,x):\n",
    "    if x<=a:\n",
    "        return f(x)\n",
    "    elif x>=b:\n",
    "        return g(x)\n",
    "    else:\n",
    "        return 0\n",
    "print(my_split_function(np.exp,np.sin,2,4,1),my_split_function(np.exp,np.sin,2,4,3),my_split_function(np.exp,np.sin,2,4,5))"
   ]
  },
  {
   "cell_type": "code",
   "execution_count": null,
   "id": "b2beff02-408d-4056-87ee-128bd4afeb2d",
   "metadata": {},
   "outputs": [],
   "source": []
  }
 ],
 "metadata": {
  "kernelspec": {
   "display_name": "Python 3 (ipykernel)",
   "language": "python",
   "name": "python3"
  },
  "language_info": {
   "codemirror_mode": {
    "name": "ipython",
    "version": 3
   },
   "file_extension": ".py",
   "mimetype": "text/x-python",
   "name": "python",
   "nbconvert_exporter": "python",
   "pygments_lexer": "ipython3",
   "version": "3.10.4"
  }
 },
 "nbformat": 4,
 "nbformat_minor": 5
}
