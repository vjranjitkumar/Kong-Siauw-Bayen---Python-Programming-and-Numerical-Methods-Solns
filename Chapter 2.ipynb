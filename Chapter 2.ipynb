{
 "cells": [
  {
   "cell_type": "code",
   "execution_count": 9,
   "id": "990f9990-475d-4906-9e6b-f3116c8d6132",
   "metadata": {},
   "outputs": [],
   "source": [
    "#1\n",
    "x=2\n",
    "y=3\n",
    "x=None\n",
    "#none signifies that x no longer makes sense or meaningful."
   ]
  },
  {
   "cell_type": "code",
   "execution_count": 10,
   "id": "c2030f44-fb45-4079-b4ad-20304b4421cf",
   "metadata": {},
   "outputs": [
    {
     "ename": "NameError",
     "evalue": "name 'z' is not defined",
     "output_type": "error",
     "traceback": [
      "\u001b[0;31m---------------------------------------------------------------------------\u001b[0m",
      "\u001b[0;31mNameError\u001b[0m                                 Traceback (most recent call last)",
      "Cell \u001b[0;32mIn[10], line 2\u001b[0m\n\u001b[1;32m      1\u001b[0m \u001b[38;5;66;03m#2\u001b[39;00m\n\u001b[0;32m----> 2\u001b[0m \u001b[38;5;28mprint\u001b[39m(\u001b[43mz\u001b[49m)\n\u001b[1;32m      3\u001b[0m \u001b[38;5;66;03m#creates a name error on z.\u001b[39;00m\n",
      "\u001b[0;31mNameError\u001b[0m: name 'z' is not defined"
     ]
    }
   ],
   "source": [
    "#2\n",
    "print(z)\n",
    "#creates a name error on z."
   ]
  },
  {
   "cell_type": "code",
   "execution_count": 14,
   "id": "223a4b2d-8930-4417-a18b-66fafde258cc",
   "metadata": {},
   "outputs": [
    {
     "name": "stdout",
     "output_type": "stream",
     "text": [
      "13 30 3.3333333333333335 -0.5440211108893698 -4.352168887114958 -4.940158120464309 1000\n"
     ]
    }
   ],
   "source": [
    "#3\n",
    "import math\n",
    "x=10\n",
    "y=3\n",
    "u,v,w,z,r,s,p=x+y,x*y,x/y,math.sin(x),8*math.sin(x),5*math.sin(x*y),x**y\n",
    "print(u,v,w,z,r,s,p)"
   ]
  },
  {
   "cell_type": "code",
   "execution_count": 15,
   "id": "ce7abfa4-f6cd-44ee-9cb1-daa44cb7fa44",
   "metadata": {},
   "outputs": [
    {
     "name": "stdout",
     "output_type": "stream",
     "text": [
      "Variable   Type      Data/Info\n",
      "------------------------------\n",
      "math       module    <module 'math' from '/Lib<...>h.cpython-310-darwin.so'>\n",
      "p          int       1000\n",
      "r          float     -4.352168887114958\n",
      "s          float     -4.940158120464309\n",
      "u          int       13\n",
      "v          int       30\n",
      "w          float     3.3333333333333335\n",
      "x          int       10\n",
      "y          int       3\n",
      "z          float     -0.5440211108893698\n"
     ]
    }
   ],
   "source": [
    "#4\n",
    "%whos"
   ]
  },
  {
   "cell_type": "code",
   "execution_count": 19,
   "id": "47c1bfbc-ad4a-45eb-b12b-bfede02cd1f4",
   "metadata": {},
   "outputs": [
    {
     "name": "stdout",
     "output_type": "stream",
     "text": [
      "<class 'str'> <class 'float'>\n"
     ]
    }
   ],
   "source": [
    "#5\n",
    "S=\"123\"\n",
    "N=float(S)\n",
    "print(type(S),type(N))"
   ]
  },
  {
   "cell_type": "code",
   "execution_count": 22,
   "id": "e1e695d4-b591-41bf-b34c-c9fed9dd7347",
   "metadata": {},
   "outputs": [
    {
     "name": "stdout",
     "output_type": "stream",
     "text": [
      "False\n",
      "True\n",
      "True\n"
     ]
    }
   ],
   "source": [
    "#6\n",
    "s1=\"HELLO\"\n",
    "s2=\"hello\"\n",
    "print(s1==s2)\n",
    "print(s1.lower()==s2)\n",
    "print(s2.upper()==s1)"
   ]
  },
  {
   "cell_type": "code",
   "execution_count": 25,
   "id": "a292f272-d181-4378-b872-9cefae57274e",
   "metadata": {},
   "outputs": [
    {
     "name": "stdout",
     "output_type": "stream",
     "text": [
      "The word \"Engineering\" has 11 letters.\n",
      "The word \"Book\" has 4 letters.\n"
     ]
    }
   ],
   "source": [
    "#7\n",
    "a=\"Engineering\"\n",
    "b=\"Book\"\n",
    "print(f'The word \"{a}\" has {len(a)} letters.')\n",
    "print(f'The word \"{b}\" has {len(b)} letters.')"
   ]
  },
  {
   "cell_type": "code",
   "execution_count": 27,
   "id": "dde39783-13b0-44e4-9131-745401fab9a0",
   "metadata": {},
   "outputs": [
    {
     "data": {
      "text/plain": [
       "True"
      ]
     },
     "execution_count": 27,
     "metadata": {},
     "output_type": "execute_result"
    }
   ],
   "source": [
    "#8\n",
    "\"Python\" in \"Python is great!\"\n",
    "#checks condition"
   ]
  },
  {
   "cell_type": "code",
   "execution_count": 28,
   "id": "f915572e-ef5d-44c2-85b3-89be4e783195",
   "metadata": {},
   "outputs": [
    {
     "data": {
      "text/plain": [
       "'great'"
      ]
     },
     "execution_count": 28,
     "metadata": {},
     "output_type": "execute_result"
    }
   ],
   "source": [
    "#9\n",
    "a=\"Python is great!\"\n",
    "a[10:-1]"
   ]
  },
  {
   "cell_type": "code",
   "execution_count": 31,
   "id": "ac269348-4039-452b-a9e0-f90d1b922aba",
   "metadata": {},
   "outputs": [
    {
     "data": {
      "text/plain": [
       "[1, 2, 8, 9, 15, 4]"
      ]
     },
     "execution_count": 31,
     "metadata": {},
     "output_type": "execute_result"
    }
   ],
   "source": [
    "#10\n",
    "list_a=[1, 8, 9, 15]\n",
    "list_a.insert(1,2)\n",
    "list_a.append(4)\n",
    "list_a"
   ]
  },
  {
   "cell_type": "code",
   "execution_count": 33,
   "id": "07716f61-0098-48e9-9f93-2f942db2d236",
   "metadata": {},
   "outputs": [
    {
     "data": {
      "text/plain": [
       "[1, 2, 4, 8, 9, 15]"
      ]
     },
     "execution_count": 33,
     "metadata": {},
     "output_type": "execute_result"
    }
   ],
   "source": [
    "#11\n",
    "list_a.sort()\n",
    "list_a"
   ]
  },
  {
   "cell_type": "code",
   "execution_count": 34,
   "id": "9b0d8dda-b8e7-4849-8f2b-2f4273f8b511",
   "metadata": {},
   "outputs": [
    {
     "data": {
      "text/plain": [
       "['P',\n",
       " 'y',\n",
       " 't',\n",
       " 'h',\n",
       " 'o',\n",
       " 'n',\n",
       " ' ',\n",
       " 'i',\n",
       " 's',\n",
       " ' ',\n",
       " 'g',\n",
       " 'r',\n",
       " 'e',\n",
       " 'a',\n",
       " 't',\n",
       " '!']"
      ]
     },
     "execution_count": 34,
     "metadata": {},
     "output_type": "execute_result"
    }
   ],
   "source": [
    "#12\n",
    "list(a)"
   ]
  },
  {
   "cell_type": "code",
   "execution_count": 38,
   "id": "8f4a7d27-5a07-41a9-a79d-df20871ac412",
   "metadata": {},
   "outputs": [
    {
     "data": {
      "text/plain": [
       "('One', 1)"
      ]
     },
     "execution_count": 38,
     "metadata": {},
     "output_type": "execute_result"
    }
   ],
   "source": [
    "#13\n",
    "tuple_a=(\"One\",1)\n",
    "tuple_a"
   ]
  },
  {
   "cell_type": "code",
   "execution_count": 39,
   "id": "881d5f1e-b991-44dc-acf1-8f149229cbe3",
   "metadata": {},
   "outputs": [
    {
     "data": {
      "text/plain": [
       "1"
      ]
     },
     "execution_count": 39,
     "metadata": {},
     "output_type": "execute_result"
    }
   ],
   "source": [
    "#14\n",
    "tuple_a[1]"
   ]
  },
  {
   "cell_type": "code",
   "execution_count": 40,
   "id": "1114e2a1-3718-41c1-8718-dc38062207d8",
   "metadata": {},
   "outputs": [
    {
     "data": {
      "text/plain": [
       "{1, 2, 3, 5}"
      ]
     },
     "execution_count": 40,
     "metadata": {},
     "output_type": "execute_result"
    }
   ],
   "source": [
    "#15\n",
    "t=(2,3,2,3,1,2,5)\n",
    "set(t)"
   ]
  },
  {
   "cell_type": "code",
   "execution_count": 46,
   "id": "d259e696-96d7-4a13-abf7-ab5eac04a794",
   "metadata": {},
   "outputs": [
    {
     "name": "stdout",
     "output_type": "stream",
     "text": [
      "{1, 2, 3}\n",
      "{2, 3}\n",
      "set()\n"
     ]
    }
   ],
   "source": [
    "#16\n",
    "c=(2,3,2)\n",
    "d=(1,2,3)\n",
    "set_a=set(c)\n",
    "set_b=set(d)\n",
    "print(set_a.union(set_b))\n",
    "print(set_a.intersection(set_b))\n",
    "print(set_a.difference(set_b))"
   ]
  },
  {
   "cell_type": "code",
   "execution_count": 50,
   "id": "0f8f1e1e-0936-4617-8f11-0555cc502403",
   "metadata": {},
   "outputs": [
    {
     "data": {
      "text/plain": [
       "dict_keys(['A', 'B', 'C'])"
      ]
     },
     "execution_count": 50,
     "metadata": {},
     "output_type": "execute_result"
    }
   ],
   "source": [
    "#17\n",
    "my_dict = {\"A\": \"a\", \"B\": \"b\", \"C\": \"c\"}\n",
    "my_dict.keys()"
   ]
  },
  {
   "cell_type": "code",
   "execution_count": 51,
   "id": "e066db29-5b9b-48ca-8f20-d993a43532a3",
   "metadata": {},
   "outputs": [
    {
     "data": {
      "text/plain": [
       "True"
      ]
     },
     "execution_count": 51,
     "metadata": {},
     "output_type": "execute_result"
    }
   ],
   "source": [
    "#18\n",
    "\"B\" in my_dict"
   ]
  },
  {
   "cell_type": "code",
   "execution_count": 55,
   "id": "4dcef0ce-85c9-4714-be8e-44861500133c",
   "metadata": {},
   "outputs": [
    {
     "name": "stdout",
     "output_type": "stream",
     "text": [
      "[ 3  7  7  3 11  7] [ 2 12 12  2 18 12] [0.5        1.33333333 0.75       2.         4.5        1.33333333] [ 0.84147098 -0.7568025   0.14112001  0.90929743  0.41211849 -0.7568025 ] [ 6.73176788 -6.05441996  1.12896006  7.27437941  3.29694788 -6.05441996] [ 4.54648713 -2.68286459 -2.68286459  4.54648713 -3.75493623 -2.68286459] [ 1 64 81  2 81 64]\n"
     ]
    }
   ],
   "source": [
    "#19\n",
    "import numpy as np\n",
    "import math\n",
    "x = np.array([1, 4, 3, 2, 9, 4])\n",
    "y=np.array([2, 3, 4, 1, 2, 3])\n",
    "u,v,w,z,r,s,p=x+y,x*y,x/y,np.array([ math.sin(a) for a in x]),8*np.array([ math.sin(a) for a in x]),5*np.array([ math.sin(a) for a in x*y]),x**y\n",
    "print(u,v,w,z,r,s,p)"
   ]
  },
  {
   "cell_type": "code",
   "execution_count": 56,
   "id": "01dc1453-42fb-4db0-ad5b-079453a06a78",
   "metadata": {},
   "outputs": [
    {
     "data": {
      "text/plain": [
       "array([-10.        ,  -9.7979798 ,  -9.5959596 ,  -9.39393939,\n",
       "        -9.19191919,  -8.98989899,  -8.78787879,  -8.58585859,\n",
       "        -8.38383838,  -8.18181818,  -7.97979798,  -7.77777778,\n",
       "        -7.57575758,  -7.37373737,  -7.17171717,  -6.96969697,\n",
       "        -6.76767677,  -6.56565657,  -6.36363636,  -6.16161616,\n",
       "        -5.95959596,  -5.75757576,  -5.55555556,  -5.35353535,\n",
       "        -5.15151515,  -4.94949495,  -4.74747475,  -4.54545455,\n",
       "        -4.34343434,  -4.14141414,  -3.93939394,  -3.73737374,\n",
       "        -3.53535354,  -3.33333333,  -3.13131313,  -2.92929293,\n",
       "        -2.72727273,  -2.52525253,  -2.32323232,  -2.12121212,\n",
       "        -1.91919192,  -1.71717172,  -1.51515152,  -1.31313131,\n",
       "        -1.11111111,  -0.90909091,  -0.70707071,  -0.50505051,\n",
       "        -0.3030303 ,  -0.1010101 ,   0.1010101 ,   0.3030303 ,\n",
       "         0.50505051,   0.70707071,   0.90909091,   1.11111111,\n",
       "         1.31313131,   1.51515152,   1.71717172,   1.91919192,\n",
       "         2.12121212,   2.32323232,   2.52525253,   2.72727273,\n",
       "         2.92929293,   3.13131313,   3.33333333,   3.53535354,\n",
       "         3.73737374,   3.93939394,   4.14141414,   4.34343434,\n",
       "         4.54545455,   4.74747475,   4.94949495,   5.15151515,\n",
       "         5.35353535,   5.55555556,   5.75757576,   5.95959596,\n",
       "         6.16161616,   6.36363636,   6.56565657,   6.76767677,\n",
       "         6.96969697,   7.17171717,   7.37373737,   7.57575758,\n",
       "         7.77777778,   7.97979798,   8.18181818,   8.38383838,\n",
       "         8.58585859,   8.78787879,   8.98989899,   9.19191919,\n",
       "         9.39393939,   9.5959596 ,   9.7979798 ,  10.        ])"
      ]
     },
     "execution_count": 56,
     "metadata": {},
     "output_type": "execute_result"
    }
   ],
   "source": [
    "#20\n",
    "np.linspace(-10,10,100)"
   ]
  },
  {
   "cell_type": "code",
   "execution_count": 61,
   "id": "0828e46d-c704-4b8e-87d3-7de850e53453",
   "metadata": {},
   "outputs": [
    {
     "name": "stdout",
     "output_type": "stream",
     "text": [
      "[1 2 3]\n"
     ]
    }
   ],
   "source": [
    "#21\n",
    "array_a = np.array([-1, 0, 1, 2, 0, 3])\n",
    "b = array_a > 0\n",
    "result_array = array_a[b]\n",
    "print(result_array)"
   ]
  },
  {
   "cell_type": "code",
   "execution_count": 62,
   "id": "1f41f318-101f-4ea0-b462-10bf87d90a29",
   "metadata": {},
   "outputs": [
    {
     "data": {
      "text/plain": [
       "array([[3, 2, 3],\n",
       "       [5, 2, 8],\n",
       "       [3, 5, 9]])"
      ]
     },
     "execution_count": 62,
     "metadata": {},
     "output_type": "execute_result"
    }
   ],
   "source": [
    "#22\n",
    "y=np.array([[3,5,3],[2,2,5],[3,8,9]])\n",
    "y.T"
   ]
  },
  {
   "cell_type": "code",
   "execution_count": 63,
   "id": "6d66f9d5-08ac-4c3e-833f-d6e5ed3f9919",
   "metadata": {},
   "outputs": [
    {
     "name": "stdout",
     "output_type": "stream",
     "text": [
      "[[0. 0. 0. 0.]\n",
      " [0. 0. 0. 0.]]\n"
     ]
    }
   ],
   "source": [
    "#23\n",
    "zero_array = np.zeros((2, 4)) \n",
    "print(zero_array)"
   ]
  },
  {
   "cell_type": "code",
   "execution_count": 64,
   "id": "5f14bc1b-61e4-4ba9-908d-3be432e9baaa",
   "metadata": {},
   "outputs": [
    {
     "name": "stdout",
     "output_type": "stream",
     "text": [
      "[[0. 1. 0. 0.]\n",
      " [0. 1. 0. 0.]]\n"
     ]
    }
   ],
   "source": [
    "#24\n",
    "zero_array[:, 1] = 1\n",
    "print(zero_array)"
   ]
  },
  {
   "cell_type": "code",
   "execution_count": null,
   "id": "041e85d0-5f6e-4071-ab7c-bbcf19e22b1c",
   "metadata": {},
   "outputs": [],
   "source": [
    "#25\n",
    "%reset"
   ]
  },
  {
   "cell_type": "code",
   "execution_count": null,
   "id": "e2e0eefd-88f0-4a1f-9528-87736e6925e2",
   "metadata": {},
   "outputs": [],
   "source": []
  }
 ],
 "metadata": {
  "kernelspec": {
   "display_name": "Python 3 (ipykernel)",
   "language": "python",
   "name": "python3"
  },
  "language_info": {
   "codemirror_mode": {
    "name": "ipython",
    "version": 3
   },
   "file_extension": ".py",
   "mimetype": "text/x-python",
   "name": "python",
   "nbconvert_exporter": "python",
   "pygments_lexer": "ipython3",
   "version": "3.10.4"
  }
 },
 "nbformat": 4,
 "nbformat_minor": 5
}
